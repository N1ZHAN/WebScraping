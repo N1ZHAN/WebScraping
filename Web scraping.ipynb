{
 "cells": [
  {
   "cell_type": "code",
   "execution_count": 261,
   "id": "4df2c7e0",
   "metadata": {},
   "outputs": [
    {
     "name": "stdout",
     "output_type": "stream",
     "text": [
      "Collecting xlutils\n",
      "  Downloading xlutils-2.0.0-py2.py3-none-any.whl (55 kB)\n",
      "\u001b[K     |████████████████████████████████| 55 kB 1.9 MB/s eta 0:00:01\n",
      "\u001b[?25hRequirement already satisfied: xlwt>=0.7.4 in /opt/anaconda3/lib/python3.8/site-packages (from xlutils) (1.3.0)\n",
      "Requirement already satisfied: xlrd>=0.7.2 in /opt/anaconda3/lib/python3.8/site-packages (from xlutils) (2.0.1)\n",
      "Installing collected packages: xlutils\n",
      "Successfully installed xlutils-2.0.0\n"
     ]
    }
   ],
   "source": [
    "#!pip install xlutils"
   ]
  },
  {
   "cell_type": "code",
   "execution_count": 514,
   "id": "263b8fe5",
   "metadata": {},
   "outputs": [],
   "source": [
    "import requests\n",
    "from selenium import webdriver\n",
    "#from urllib.parse import urljoin\n",
    "from bs4 import BeautifulSoup\n",
    "import pandas as pd\n",
    "import numpy as np\n",
    "import time\n",
    "#import urllib.request\n",
    "\n",
    "#import time\n",
    "#import operator\n",
    "#import socket\n",
    "#import _pickle as cPickle\n",
    "#import re # regular expressions"
   ]
  },
  {
   "cell_type": "code",
   "execution_count": 2150,
   "id": "e9521250",
   "metadata": {},
   "outputs": [
    {
     "name": "stderr",
     "output_type": "stream",
     "text": [
      "/var/folders/p9/p0xt7jns0q9csk7_c64z0r9w0000gn/T/ipykernel_14101/1846095569.py:6: DeprecationWarning: executable_path has been deprecated, please pass in a Service object\n",
      "  driver = webdriver.Chrome(\"/Users/snail../Downloads/data/chromedriver\")\n"
     ]
    }
   ],
   "source": [
    "URL = \"https://www.imdb.com/title/tt4817002/reviews?ref_=tt_urv\"\n",
    "response = requests.get(URL)\n",
    "original_html = response.text\n",
    "original_soup = BeautifulSoup(original_html,'lxml')\n",
    "# Download Chromedriver\n",
    "driver = webdriver.Chrome(\"/Users/snail../Downloads/data/chromedriver\")\n",
    "driver.get(URL)\n",
    "\n",
    "# check if we need to click on \"load more\" button\n",
    "while(1):\n",
    "    temp_response = driver.page_source\n",
    "    temp_html = temp_response\n",
    "    temp_soup = BeautifulSoup(temp_html,'lxml')\n",
    "    load_more = temp_soup.select('.ipl-load-more__button')\n",
    "    #simulation\n",
    "    if(len(load_more) == 1):\n",
    "        button_load_more = driver.find_element_by_class_name('ipl-load-more__button')\n",
    "        button_is_or_not_visible = driver.find_element_by_class_name('ipl-load-more__button').is_displayed()\n",
    "        if(button_is_or_not_visible is True):       #stop clicking when there is no \"load more\"\n",
    "            button_load_more.click()\n",
    "            time.sleep(3)\n",
    "        else:\n",
    "            break\n",
    "    else:\n",
    "        break\n",
    "\n",
    "final_response = driver.page_source\n",
    "html = final_response\n",
    "soup = BeautifulSoup(html,'lxml')\n",
    "#soup"
   ]
  },
  {
   "cell_type": "code",
   "execution_count": 2151,
   "id": "36657bf4",
   "metadata": {},
   "outputs": [],
   "source": [
    "review = soup.find_all(class_ = 'text show-more__control')"
   ]
  },
  {
   "cell_type": "code",
   "execution_count": 2152,
   "id": "ebf7a151",
   "metadata": {},
   "outputs": [],
   "source": [
    "review_content = []\n",
    "for i in range (0,len(review)):\n",
    "    review_content.append(review[i].get_text())"
   ]
  },
  {
   "cell_type": "code",
   "execution_count": 2153,
   "id": "30a0563a",
   "metadata": {},
   "outputs": [],
   "source": [
    "review_content[:] = [review.lstrip('\\n') for review in review_content]\n",
    "review_content[:] = [review.rstrip('\\n') for review in review_content]"
   ]
  },
  {
   "cell_type": "code",
   "execution_count": 2154,
   "id": "824c52a4",
   "metadata": {},
   "outputs": [
    {
     "data": {
      "text/html": [
       "<div>\n",
       "<style scoped>\n",
       "    .dataframe tbody tr th:only-of-type {\n",
       "        vertical-align: middle;\n",
       "    }\n",
       "\n",
       "    .dataframe tbody tr th {\n",
       "        vertical-align: top;\n",
       "    }\n",
       "\n",
       "    .dataframe thead th {\n",
       "        text-align: right;\n",
       "    }\n",
       "</style>\n",
       "<table border=\"1\" class=\"dataframe\">\n",
       "  <thead>\n",
       "    <tr style=\"text-align: right;\">\n",
       "      <th></th>\n",
       "      <th>Review</th>\n",
       "    </tr>\n",
       "  </thead>\n",
       "  <tbody>\n",
       "    <tr>\n",
       "      <th>0</th>\n",
       "      <td>As a side note, the two main stars of this dra...</td>\n",
       "    </tr>\n",
       "    <tr>\n",
       "      <th>1</th>\n",
       "      <td>The series was good for a couple of episodes. ...</td>\n",
       "    </tr>\n",
       "    <tr>\n",
       "      <th>2</th>\n",
       "      <td>This is quite a disappointment for me since Ha...</td>\n",
       "    </tr>\n",
       "  </tbody>\n",
       "</table>\n",
       "</div>"
      ],
      "text/plain": [
       "                                              Review\n",
       "0  As a side note, the two main stars of this dra...\n",
       "1  The series was good for a couple of episodes. ...\n",
       "2  This is quite a disappointment for me since Ha..."
      ]
     },
     "execution_count": 2154,
     "metadata": {},
     "output_type": "execute_result"
    }
   ],
   "source": [
    "df = pd.DataFrame()\n",
    "#df['Username'] = cust_name\n",
    "df['Review'] = review_content\n",
    "df"
   ]
  },
  {
   "cell_type": "code",
   "execution_count": 2155,
   "id": "04a60445",
   "metadata": {},
   "outputs": [],
   "source": [
    "import xlrd\n",
    "from xlutils.copy import copy\n",
    "index = df.shape[0]\n",
    "workbook = xlrd.open_workbook(\"Drama.xls\")\n",
    "sheets = workbook.sheet_names()  \n",
    "worksheet = workbook.sheet_by_name(sheets[0]) \n",
    "rows_old = worksheet.nrows  # the current number of rows\n",
    "new_workbook = copy(workbook)  # convert xlrd to xlwt\n",
    "new_worksheet = new_workbook.get_sheet(0)  # first worksheet\n",
    "\n",
    "for i in range(0, index):\n",
    "    for j in range(0, df.shape[1]):\n",
    "        new_worksheet.write(i+rows_old, j, df.iloc[i][j])  # keep inputing data\n",
    "new_workbook.save(\"Drama.xls\")  # save workbook"
   ]
  },
  {
   "cell_type": "code",
   "execution_count": 1423,
   "id": "0a6b52f3",
   "metadata": {},
   "outputs": [],
   "source": [
    "df.to_excel(\"Drama.xlsx\")"
   ]
  },
  {
   "cell_type": "code",
   "execution_count": null,
   "id": "cc1d9113",
   "metadata": {},
   "outputs": [],
   "source": [
    "ldWb = xlrd.open_workbook(gConst['xls']['fileName'], formatting_info=True);\n",
    "print oldWb; #<xlrd.book.Book object at 0x000000000315C940>\n",
    "newWb = copy(oldWb);\n",
    "print newWb; #<xlwt.Workbook.Workbook object at 0x000000000315F470>\n",
    "newWs = newWb.get_sheet(0);"
   ]
  },
  {
   "cell_type": "code",
   "execution_count": 6,
   "id": "0b374142",
   "metadata": {},
   "outputs": [
    {
     "data": {
      "text/plain": [
       "['hanalisss',\n",
       " 'alexandra-42857',\n",
       " 'AppleEye2U',\n",
       " 'Applecrumbless',\n",
       " 'srijasingh-41746',\n",
       " 'zoeparker-31424',\n",
       " 'goddessmedusa',\n",
       " 'mustermannmaxine',\n",
       " 'shreyashandilya-96216',\n",
       " 'harshananadapatti',\n",
       " 'rowenadolino',\n",
       " 'lewisprivateproperty',\n",
       " 'farhaahmed-82396',\n",
       " 'sunman8']"
      ]
     },
     "execution_count": 6,
     "metadata": {},
     "output_type": "execute_result"
    }
   ],
   "source": [
    "names = soup.find_all('span',class_ = 'display-name-link')\n",
    "\n",
    "cust_name = []\n",
    "for i in range (0,len(names)):\n",
    "    cust_name.append(names[i].get_text())\n",
    "\n",
    "cust_name"
   ]
  }
 ],
 "metadata": {
  "kernelspec": {
   "display_name": "Python 3 (ipykernel)",
   "language": "python",
   "name": "python3"
  },
  "language_info": {
   "codemirror_mode": {
    "name": "ipython",
    "version": 3
   },
   "file_extension": ".py",
   "mimetype": "text/x-python",
   "name": "python",
   "nbconvert_exporter": "python",
   "pygments_lexer": "ipython3",
   "version": "3.9.7"
  }
 },
 "nbformat": 4,
 "nbformat_minor": 5
}
